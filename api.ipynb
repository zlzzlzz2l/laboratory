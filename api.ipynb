{
 "cells": [
  {
   "cell_type": "code",
   "id": "initial_id",
   "metadata": {
    "collapsed": true,
    "ExecuteTime": {
     "end_time": "2024-12-13T01:53:26.866606Z",
     "start_time": "2024-12-13T01:53:26.862178Z"
    }
   },
   "source": [
    "# Setting Tavily Parameter\n",
    "params = {\n",
    "    \"search_depth\": \"basic\",\n",
    "    \"topic\": \"general\", # news (뉴스 데이터)\n",
    "    \"max_results\": 3,\n",
    "    \"include_images\": False,\n",
    "    \"include_image_description\": False,\n",
    "    \"include_answer\": False,\n",
    "    \"include_raw_content\": False,\n",
    "    \"include_domains\": [],\n",
    "    \"exclude_domains\": [],\n",
    "    \"days\": 7\n",
    "}"
   ],
   "outputs": [],
   "execution_count": 1
  },
  {
   "metadata": {
    "ExecuteTime": {
     "end_time": "2024-12-13T01:53:30.733133Z",
     "start_time": "2024-12-13T01:53:27.652417Z"
    }
   },
   "cell_type": "code",
   "source": [
    "# Call Tavily API\n",
    "from tavily import TavilyClient\n",
    "\n",
    "client = TavilyClient()\n",
    "\n",
    "web_search_data = client.get_web_search_data(\n",
    "    query=\"대한민국의 수도는?\",\n",
    "    params=params\n",
    ")\n",
    "\n",
    "print(web_search_data)"
   ],
   "id": "15375c58e7efb49e",
   "outputs": [
    {
     "name": "stdout",
     "output_type": "stream",
     "text": [
      "[{'url': 'https://ko.wikipedia.org/wiki/수도', 'title': '수도 - 위키백과, 우리 모두의 백과사전', 'content': \"개인 도구 수도 도구 위키백과, 우리 모두의 백과사전. 다른 뜻에 대해서는 수도 (동음이의) 문서를 참고하십시오. 대만의 수도 타이베이 수도(한국 한자: 首都, 영어: Capital city)는 한 국가의 정치, 행정의 중심이 되는 도시를 말한다. 국가에 따라서는 여러 개의 수도가 있기도 하며, 수도에 실제 행정부가 위치하지 않거나, 주요 국가 기관이 여러 도시에 나뉘어 위치하기도 한다. 이후 경제, 문화, 정치적 중심지가 나타나고 각 지역들이 연합하고 점령을 진행하면서 한 도시는 계속해서 커지게 되고 다양한 목적을 가진 사람들로 인해 인구가 증가하고 여러 자본이 유입되면서 수도가 등장했다.[1][2] 대한민국의 수도[편집] 그 어원은 여러 설이 있지만, 수도(首都)를 뜻하는 신라어 '서라벌'에서 유래했다는 설이 가장 유력하다. 수도 이름순 수도 목록 나라 이름순 수도 목록 위키미디어 공용에 수도 관련 미디어 분류가 있습니다. 이 글은 나라에 관한 토막글입니다. 이 글은 정치에 관한 토막글입니다. 분류: 수도 위키백과 소개\", 'score': 0.99818975}, {'url': 'https://www.a-ha.io/questions/40159372a1dc09e3b630d0a0543c615c', 'title': '한국의 수도는 어디인가요? 알려주세요 ㅣ 궁금할 땐, 아하!', 'content': '대한민국의 수도는 서울입니다 서울은 조선건국 때부터 우리나라의 수도로써 경제,문화등 우리나라 모든 면에서 최고의 도시입니다 그리고 인구도 1000만명으로 세계에서도 손꼽히는 도시입니다 . 0.', 'score': 0.99797314}, {'url': 'https://namu.wiki/w/수도(도시)', 'title': '수도(도시) - 나무위키', 'content': '이렇듯 수도는 공격을 자주 받기에 오랜 역사에 비해 남은 유적이 별로 없는 곳들도 많다. [16] ... 결국에 대한민국의 수도를 가리키는 고유명사를 새로 만들려는 계획은 흐지부지되었기에 최현배는 별세할 때에도 이를 매우 아쉬워했다. 5.2. 수도 고유명사의', 'score': 0.9948403}]\n"
     ]
    }
   ],
   "execution_count": 2
  },
  {
   "metadata": {
    "ExecuteTime": {
     "end_time": "2024-12-13T01:50:42.332338Z",
     "start_time": "2024-12-13T01:50:42.329386Z"
    }
   },
   "cell_type": "code",
   "source": "",
   "id": "48510145a08b673",
   "outputs": [],
   "execution_count": 2
  }
 ],
 "metadata": {
  "kernelspec": {
   "display_name": "Python 3",
   "language": "python",
   "name": "python3"
  },
  "language_info": {
   "codemirror_mode": {
    "name": "ipython",
    "version": 2
   },
   "file_extension": ".py",
   "mimetype": "text/x-python",
   "name": "python",
   "nbconvert_exporter": "python",
   "pygments_lexer": "ipython2",
   "version": "2.7.6"
  }
 },
 "nbformat": 4,
 "nbformat_minor": 5
}
